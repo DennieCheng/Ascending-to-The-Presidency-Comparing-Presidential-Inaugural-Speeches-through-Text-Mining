{
 "cells": [
  {
   "cell_type": "code",
   "execution_count": 6,
   "metadata": {},
   "outputs": [],
   "source": [
    "from IPython.display import HTML\n",
    "from IPython.display import Image\n",
    "import numpy as np\n",
    "import urllib.request\n",
    "import bs4 #this is beautiful soup\n",
    "import time\n",
    "import operator\n",
    "import socket\n",
    "import _pickle as cPickle\n",
    "import re # regular expressions"
   ]
  },
  {
   "cell_type": "code",
   "execution_count": 7,
   "metadata": {},
   "outputs": [],
   "source": [
    "from urllib.request import urlopen\n",
    "url = \"https://www.presidency.ucsb.edu/documents/presidential-documents-archive-guidebook/inaugural-addresses\"\n",
    "source = urlopen(url).read()\n",
    "source = source.decode(\"utf-8\")\n"
   ]
  },
  {
   "cell_type": "code",
   "execution_count": 8,
   "metadata": {},
   "outputs": [],
   "source": [
    "soup = bs4.BeautifulSoup(source, 'html.parser')\n"
   ]
  },
  {
   "cell_type": "code",
   "execution_count": 9,
   "metadata": {},
   "outputs": [
    {
     "data": {
      "text/plain": [
       "['George Washington',\n",
       " 'John Adams',\n",
       " 'Thomas Jefferson',\n",
       " 'James Madison',\n",
       " 'James Monroe',\n",
       " 'John Quincy Adams',\n",
       " 'Andrew Jackson',\n",
       " 'Martin van Buren',\n",
       " 'William Henry Harrison',\n",
       " 'John Tyler',\n",
       " 'James K. Polk',\n",
       " 'Zachary Taylor',\n",
       " 'Millard Fillmore',\n",
       " 'Franklin Pierce',\n",
       " 'James Buchanan',\n",
       " 'Abraham Lincoln',\n",
       " 'Andrew Johnson',\n",
       " 'Ulysses S. Grant',\n",
       " 'Rutherford B. Hayes',\n",
       " 'James Garfield',\n",
       " 'Chester Arthur',\n",
       " 'Grover Cleveland - I',\n",
       " 'Benjamin Harrison',\n",
       " 'Grover Cleveland - II',\n",
       " 'William McKinley',\n",
       " 'Theodore Roosevelt',\n",
       " 'William Howard Taft',\n",
       " 'Woodrow Wilson',\n",
       " 'Warren G. Harding',\n",
       " 'Calvin Coolidge',\n",
       " 'Herbert Hoover',\n",
       " 'Franklin D. Roosevelt',\n",
       " 'Harry S. Truman',\n",
       " 'Dwight D. Eisenhower',\n",
       " 'John F. Kennedy',\n",
       " 'Lyndon B. Johnson',\n",
       " 'Richard Nixon',\n",
       " 'Gerald R. Ford',\n",
       " 'Jimmy Carter',\n",
       " 'Ronald Reagan',\n",
       " 'George Bush',\n",
       " 'William J. Clinton',\n",
       " 'George W. Bush',\n",
       " 'Barack Obama',\n",
       " 'Donald J. Trump']"
      ]
     },
     "execution_count": 9,
     "metadata": {},
     "output_type": "execute_result"
    }
   ],
   "source": [
    "namefrom =[str(i) for i in soup.find_all(\"strong\")]\n",
    "namefrom = [re.sub('<strong>|</strong>', '', i) for i in namefrom]\n",
    "name =[]\n",
    "for i in namefrom:\n",
    "    if namefrom.index(i) >3 and namefrom.index(i) != len(namefrom)-1 and namefrom.index(i) != len(namefrom)-2:\n",
    "        name.append(i)\n",
    "name"
   ]
  },
  {
   "cell_type": "code",
   "execution_count": 10,
   "metadata": {},
   "outputs": [
    {
     "data": {
      "text/plain": [
       "['https://www.presidency.ucsb.edu/ws/index.php?pid=25800',\n",
       " 'https://www.presidency.ucsb.edu/ws/index.php?pid=25801',\n",
       " 'https://www.presidency.ucsb.edu/ws/index.php?pid=25802',\n",
       " 'https://www.presidency.ucsb.edu/ws/index.php?pid=25803',\n",
       " 'https://www.presidency.ucsb.edu/ws/index.php?pid=25804',\n",
       " 'https://www.presidency.ucsb.edu/ws/index.php?pid=25805',\n",
       " 'https://www.presidency.ucsb.edu/ws/index.php?pid=25806',\n",
       " 'https://www.presidency.ucsb.edu/ws/index.php?pid=25807',\n",
       " 'https://www.presidency.ucsb.edu/ws/index.php?pid=25808',\n",
       " 'https://www.presidency.ucsb.edu/ws/index.php?pid=25809',\n",
       " 'https://www.presidency.ucsb.edu/ws/index.php?pid=25810',\n",
       " 'https://www.presidency.ucsb.edu/ws/index.php?pid=25811',\n",
       " 'https://www.presidency.ucsb.edu/ws/index.php?pid=25812',\n",
       " 'https://www.presidency.ucsb.edu/ws/index.php?pid=25813',\n",
       " 'https://www.presidency.ucsb.edu/ws/index.php?pid=25814',\n",
       " 'https://www.presidency.ucsb.edu/ws/index.php?pid=25815',\n",
       " 'https://www.presidency.ucsb.edu/ws/index.php?pid=25816',\n",
       " 'https://www.presidency.ucsb.edu/ws/index.php?pid=25817',\n",
       " 'https://www.presidency.ucsb.edu/ws/index.php?pid=25818',\n",
       " 'https://www.presidency.ucsb.edu/ws/index.php?pid=25819',\n",
       " 'https://www.presidency.ucsb.edu/ws/index.php?pid=25820',\n",
       " 'https://www.presidency.ucsb.edu/ws/index.php?pid=25821',\n",
       " 'https://www.presidency.ucsb.edu/ws/index.php?pid=25822',\n",
       " 'https://www.presidency.ucsb.edu/ws/index.php?pid=25823',\n",
       " 'https://www.presidency.ucsb.edu/ws/index.php?pid=25824',\n",
       " 'https://www.presidency.ucsb.edu/ws/index.php?pid=25825',\n",
       " 'https://www.presidency.ucsb.edu/ws/index.php?pid=25826',\n",
       " 'https://www.presidency.ucsb.edu/ws/index.php?pid=25827',\n",
       " 'https://www.presidency.ucsb.edu/ws/index.php?pid=25828',\n",
       " 'https://www.presidency.ucsb.edu/ws/index.php?pid=25829',\n",
       " 'https://www.presidency.ucsb.edu/ws/index.php?pid=25830',\n",
       " 'https://www.presidency.ucsb.edu/ws/index.php?pid=25831',\n",
       " 'https://www.presidency.ucsb.edu/ws/index.php?pid=25832',\n",
       " 'https://www.presidency.ucsb.edu/ws/index.php?pid=25833',\n",
       " 'https://www.presidency.ucsb.edu/ws/index.php?pid=25834',\n",
       " 'https://www.presidency.ucsb.edu/ws/index.php?pid=21804',\n",
       " 'https://www.presidency.ucsb.edu/ws/index.php?pid=14473',\n",
       " 'https://www.presidency.ucsb.edu/ws/index.php?pid=15349',\n",
       " 'https://www.presidency.ucsb.edu/ws/index.php?pid=16022',\n",
       " 'https://www.presidency.ucsb.edu/ws/index.php?pid=16607',\n",
       " 'https://www.presidency.ucsb.edu/ws/index.php?pid=13282',\n",
       " 'https://www.presidency.ucsb.edu/ws/index.php?pid=9600',\n",
       " 'https://www.presidency.ucsb.edu/ws/index.php?pid=10856',\n",
       " 'https://www.presidency.ucsb.edu/ws/index.php?pid=8032',\n",
       " 'https://www.presidency.ucsb.edu/ws/index.php?pid=26985',\n",
       " 'https://www.presidency.ucsb.edu/ws/index.php?pid=1941',\n",
       " 'https://www.presidency.ucsb.edu/ws/index.php?pid=4141',\n",
       " 'https://www.presidency.ucsb.edu/ws/index.php?pid=6575',\n",
       " 'https://www.presidency.ucsb.edu/ws/index.php?pid=43130',\n",
       " 'https://www.presidency.ucsb.edu/ws/index.php?pid=38688',\n",
       " 'https://www.presidency.ucsb.edu/ws/index.php?pid=16610',\n",
       " 'https://www.presidency.ucsb.edu/ws/index.php?pid=46366',\n",
       " 'https://www.presidency.ucsb.edu/ws/index.php?pid=54183',\n",
       " 'https://www.presidency.ucsb.edu/ws/index.php?pid=25853',\n",
       " 'https://www.presidency.ucsb.edu/ws/index.php?pid=58745',\n",
       " 'https://www.presidency.ucsb.edu/ws/index.php?pid=44',\n",
       " 'https://www.presidency.ucsb.edu/ws/index.php?pid=102827',\n",
       " 'https://www.presidency.ucsb.edu/ws/index.php?pid=120000']"
      ]
     },
     "execution_count": 10,
     "metadata": {},
     "output_type": "execute_result"
    }
   ],
   "source": [
    "speechfrom = [str(i) for i in soup.find_all(\"a\")]\n",
    "speech =[]\n",
    "for i in speechfrom:\n",
    "    if \"/ws/\" in i:\n",
    "        speech.append(i)\n",
    "speech = [re.findall(r'\"([^\"]+)\"', i)[0] for i in speech]\n",
    "speech"
   ]
  },
  {
   "cell_type": "code",
   "execution_count": 11,
   "metadata": {},
   "outputs": [],
   "source": [
    "listofspeech =[]\n",
    "content=[]\n",
    "for i in speech:\n",
    "    script = urlopen(i).read()\n",
    "    script = script.decode(\"utf-8\")\n",
    "    listofspeech.append(script)\n",
    "for j in listofspeech:\n",
    "    soup1 = bs4.BeautifulSoup(j)\n",
    "    soup1 = soup1.find_all(\"p\")\n",
    "    content.append(soup1)\n",
    "content = [i[2:-5] for i in content]"
   ]
  },
  {
   "cell_type": "code",
   "execution_count": 12,
   "metadata": {},
   "outputs": [
    {
     "data": {
      "text/plain": [
       "58"
      ]
     },
     "execution_count": 12,
     "metadata": {},
     "output_type": "execute_result"
    }
   ],
   "source": [
    "content1=[]\n",
    "for k in content:\n",
    "    k = [re.sub(\"<p>|</p>|<em>|</em>\",\"\",str(g)) for g in k]\n",
    "    content1.append(k)\n",
    "content1[0] = content1[0][0:-1]\n",
    "content2 =[]\n",
    "for i in content1:\n",
    "    i = \"\".join(i)\n",
    "    content2.append(i)\n",
    "content2 = [re.sub(\"[(\\n)(\\)]\",\"\",i) for i in content2]\n",
    "len(content2)"
   ]
  },
  {
   "cell_type": "code",
   "execution_count": 13,
   "metadata": {},
   "outputs": [],
   "source": [
    "GeorgeWashington1 = content2[0]\n",
    "GeorgeWashington2 = content2[1]\n",
    "JohnAdams=content2[2]\n",
    "ThomasJefferson1=content2[3]\n",
    "ThomasJefferson2 = content2[4]\n",
    "JamesMadison1=content2[5]\n",
    "JamesMadison2=content2[6]\n",
    "JamesMonroe1=content[7]\n",
    "JamesMonroe2=content[8]\n",
    "JohnQuincyAdams=content[9]\n",
    "AndrewJackson1=content2[10]\n",
    "AndrewJackson2=content2[11]\n",
    "MartinvanBuren=content2[12]\n",
    "WilliamHenryHarrison=content2[13]\n",
    "JamesKPolk=content2[14]\n",
    "ZacharyTaylor=content[15]\n",
    "FranklinPierce=content2[16]\n",
    "JamesBuchanan = content2[17]\n",
    "AbrahamLincoln1=content2[18]\n",
    "AbrahamLincoln2=content2[19]\n",
    "UlyssesGran1=content2[20]\n",
    "UlyssesGran2=content2[21]\n",
    "RutherfordHayes=content2[22]\n",
    "JamesGarfield=content2[23]\n",
    "GroverCleveland1=content2[24]\n",
    "BenjaminHarriso=content2[25]\n",
    "GroverCleveland2=content2[26]\n",
    "WilliamMcKinley1=content2[27]\n",
    "WilliamMcKinley2=content2[28]\n",
    "TheodoreRoosevelt=content2[29]\n",
    "WilliamHowardTaf=content2[30]\n",
    "WoodrowWilso1=content2[31]\n",
    "WoodrowWilso2=content2[32]\n",
    "WarrenHarding=content2[33]\n",
    "CalvinCoolidge=content2[34]\n",
    "HerbertHoover=content2[35]\n",
    "FranklinRoosevelt1=content2[36]\n",
    "FranklinRoosevelt2=content2[37]\n",
    "FranklinRoosevelt3=content2[38]\n",
    "FranklinRoosevelt4=content2[39]\n",
    "HarryTruman=content2[40]\n",
    "DwightEisenhower1=content2[41]\n",
    "DwightEisenhower2=content2[42]\n",
    "JohnKennedy=content2[43]\n",
    "LyndonJohnson=content2[44]\n",
    "RichardNixon1=content2[45]\n",
    "RichardNixon2=content2[46]\n",
    "JimmyCarter=content2[47]\n",
    "RonaldReagan1=content2[48]\n",
    "RonaldReagan2=content2[49]\n",
    "GeorgeBush=content2[50]\n",
    "WilliamClinton1=content2[51]\n",
    "WilliamClinton2=content2[52]\n",
    "GeorgeBush1=content2[53]\n",
    "GeorgeBush2=content2[54]\n",
    "BarackObama=content2[55]\n",
    "BarackObama=content2[56]\n",
    "DonaldTrump=content2[57]\n"
   ]
  },
  {
   "cell_type": "code",
   "execution_count": 18,
   "metadata": {},
   "outputs": [],
   "source": [
    "listname = ['1981 RonaldReagan', '1985 RonaldReagan', '1989 GeorgeBush', '1993 WilliamClinton', '1997 WilliamClinton', '2001 GeorgeBush', '2005 GeorgeBush', '2009 BarackObama','2013 BarackObama', '2017 DonaldTrump'] \n",
    "for i in range(0, 10):\n",
    "    file = open('%s.rtf' % listname[i], 'w')\n",
    "    file.write(content2[48+i])\n",
    "    file.close()\n"
   ]
  }
 ],
 "metadata": {
  "kernelspec": {
   "display_name": "Python 3",
   "language": "python",
   "name": "python3"
  },
  "language_info": {
   "codemirror_mode": {
    "name": "ipython",
    "version": 3
   },
   "file_extension": ".py",
   "mimetype": "text/x-python",
   "name": "python",
   "nbconvert_exporter": "python",
   "pygments_lexer": "ipython3",
   "version": "3.7.1"
  }
 },
 "nbformat": 4,
 "nbformat_minor": 2
}
